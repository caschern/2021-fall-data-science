{
  "nbformat": 4,
  "nbformat_minor": 0,
  "metadata": {
    "colab": {
      "name": "Week9_Neural_Networks_Exercise.ipynb",
      "provenance": [],
      "include_colab_link": true
    },
    "kernelspec": {
      "name": "python3",
      "display_name": "Python 3"
    },
    "accelerator": "GPU"
  },
  "cells": [
    {
      "cell_type": "markdown",
      "metadata": {
        "id": "view-in-github",
        "colab_type": "text"
      },
      "source": [
        "<a href=\"https://colab.research.google.com/github/caschern/2021-fall-data-science/blob/main/Week9_Neural_Networks_Exercise.ipynb\" target=\"_parent\"><img src=\"https://colab.research.google.com/assets/colab-badge.svg\" alt=\"Open In Colab\"/></a>"
      ]
    },
    {
      "cell_type": "code",
      "metadata": {
        "id": "UEjPEOd93QJU",
        "colab": {
          "base_uri": "https://localhost:8080/"
        },
        "outputId": "7ba2f0cd-1ab9-48a0-8c51-42888ee2a800"
      },
      "source": [
        "# TensorFlow and tf.keras\n",
        "import tensorflow as tf\n",
        "from tensorflow import keras\n",
        "# Layers for our neural networks\n",
        "from tensorflow.keras.layers import Conv2D, MaxPooling2D, Dropout, Flatten, Dense\n",
        "# A pretrained model for transfer learning\n",
        "from keras.models import Model\n",
        "from keras.applications import vgg19\n",
        "\n",
        "# Our normal python data science stack you've come to know and love\n",
        "import numpy as np\n",
        "import os\n",
        "import sys\n",
        "import matplotlib.pyplot as plt\n",
        "import pandas as pd\n",
        "import seaborn as sns\n",
        "from sklearn.model_selection import train_test_split\n",
        "from sklearn import datasets\n",
        "\n",
        "print(tf.__version__)"
      ],
      "execution_count": 2,
      "outputs": [
        {
          "output_type": "stream",
          "name": "stdout",
          "text": [
            "2.7.0\n"
          ]
        }
      ]
    },
    {
      "cell_type": "markdown",
      "metadata": {
        "id": "EIb__qFU3t1n"
      },
      "source": [
        "You're going to use a neural network to make predictions on the MNIST Fashion data set.  Check out the documentation here, make sure you check the size of the images and how many classes are in the data set https://keras.io/api/datasets/fashion_mnist/"
      ]
    },
    {
      "cell_type": "code",
      "metadata": {
        "id": "-k1roY6I8iEe"
      },
      "source": [
        "# switch runtime to GPU"
      ],
      "execution_count": null,
      "outputs": []
    },
    {
      "cell_type": "code",
      "metadata": {
        "id": "ErpvW92D3lHy",
        "colab": {
          "base_uri": "https://localhost:8080/",
          "height": 500
        },
        "outputId": "b9b35c68-4219-4af8-ec5f-316df5198197"
      },
      "source": [
        "# load the fashion mnist data set using tf.keras.datasets.fashion_mnist.load_data()\n",
        "(x_train, y_train), (x_test, y_test) = tf.keras.datasets.fashion_mnist.load_data()\n",
        "\n",
        "\n",
        "plt.figure(figsize=(8,8))\n",
        "\n",
        "\n",
        "img = x_train[114]\n",
        "\n",
        "\n",
        "img = img.reshape(28,28)\n",
        "\n",
        "\n",
        "plt.imshow(img, cmap='cool')"
      ],
      "execution_count": 8,
      "outputs": [
        {
          "output_type": "execute_result",
          "data": {
            "text/plain": [
              "<matplotlib.image.AxesImage at 0x7ff79f715b50>"
            ]
          },
          "metadata": {},
          "execution_count": 8
        },
        {
          "output_type": "display_data",
          "data": {
            "image/png": "[encoded data removed]",
            "text/plain": [
              "<Figure size 576x576 with 1 Axes>"
            ]
          },
          "metadata": {
            "needs_background": "light"
          }
        }
      ]
    },
    {
      "cell_type": "code",
      "metadata": {
        "id": "rDlqLUNv34RV"
      },
      "source": [
        "# divide the values by 255 and reshape \n",
        "x_train = x_train / 255\n",
        "x_test = x_test / 255\n",
        "\n",
        "x_train = x_train.reshape(-1, 28, 28, 1)\n",
        "y_train = y_train.reshape(-1)\n",
        "\n",
        "x_test = x_test.reshape(-1, 28, 28, 1)\n",
        "y_test = y_test.reshape(-1)"
      ],
      "execution_count": 9,
      "outputs": []
    },
    {
      "cell_type": "code",
      "metadata": {
        "id": "PTmgrqVS4BK1"
      },
      "source": [
        "# build the architecture of your model using Sequential()\n",
        "# you can use the same architecture we used in class, try to put your own spin on it, or copy another existing architecture\n",
        "# make sure you set the correct input shape and the correct parameters for the last dense layer\n",
        "model = tf.keras.models.Sequential()\n",
        "\n",
        "model.add(tf.keras.layers.Conv2D(input_shape=(28,28, 1),filters=28,kernel_size=(3,3), strides=(1,1), activation=\"relu\"))\n",
        "model.add(tf.keras.layers.Conv2D(filters=28,kernel_size=(3,3), strides=(1,1), activation=\"relu\"))\n",
        "model.add(tf.keras.layers.MaxPool2D(2, 2))\n",
        "\n",
        "model.add(tf.keras.layers.Conv2D(filters=28,kernel_size=(3,3), strides=(1,1), activation=\"relu\"))\n",
        "model.add(tf.keras.layers.Conv2D(filters=28,kernel_size=(3,3), strides=(1,1), activation=\"relu\"))\n",
        "model.add(tf.keras.layers.MaxPool2D(2, 2))\n",
        "model.add(tf.keras.layers.Flatten())\n",
        "\n",
        "model.add(tf.keras.layers.Dense(256, activation='relu'))\n",
        "model.add(tf.keras.layers.Dense(256, activation='relu'))\n",
        "model.add(tf.keras.layers.Dense(128, activation='relu'))\n",
        "model.add(tf.keras.layers.Dense(10, activation='softmax'))"
      ],
      "execution_count": 18,
      "outputs": []
    },
    {
      "cell_type": "code",
      "metadata": {
        "id": "O395g8-G4HJW"
      },
      "source": [
        "# compile your model\n",
        "model.compile(optimizer=tf.keras.optimizers.Adam(), loss='sparse_categorical_crossentropy', metrics=['acc'])"
      ],
      "execution_count": 19,
      "outputs": []
    },
    {
      "cell_type": "code",
      "metadata": {
        "id": "cjZrNiiq4Ja1",
        "colab": {
          "base_uri": "https://localhost:8080/"
        },
        "outputId": "ee4ff7c5-f49e-4a50-a10c-c4801133369a"
      },
      "source": [
        "# fit your model\n",
        "epochs = 11\n",
        "model.fit(x_train, y_train, epochs=epochs, validation_split=0.1)"
      ],
      "execution_count": 20,
      "outputs": [
        {
          "output_type": "stream",
          "name": "stdout",
          "text": [
            "Epoch 1/11\n",
            "1688/1688 [==============================] - 17s 9ms/step - loss: 0.5038 - acc: 0.8098 - val_loss: 0.3537 - val_acc: 0.8672\n",
            "Epoch 2/11\n",
            "1688/1688 [==============================] - 16s 9ms/step - loss: 0.3140 - acc: 0.8835 - val_loss: 0.2756 - val_acc: 0.8970\n",
            "Epoch 3/11\n",
            "1688/1688 [==============================] - 16s 9ms/step - loss: 0.2676 - acc: 0.9027 - val_loss: 0.2806 - val_acc: 0.8972\n",
            "Epoch 4/11\n",
            "1688/1688 [==============================] - 15s 9ms/step - loss: 0.2371 - acc: 0.9132 - val_loss: 0.2474 - val_acc: 0.9088\n",
            "Epoch 5/11\n",
            "1688/1688 [==============================] - 16s 9ms/step - loss: 0.2139 - acc: 0.9220 - val_loss: 0.2349 - val_acc: 0.9147\n",
            "Epoch 6/11\n",
            "1688/1688 [==============================] - 16s 9ms/step - loss: 0.1982 - acc: 0.9269 - val_loss: 0.2648 - val_acc: 0.9113\n",
            "Epoch 7/11\n",
            "1688/1688 [==============================] - 15s 9ms/step - loss: 0.1803 - acc: 0.9333 - val_loss: 0.2303 - val_acc: 0.9177\n",
            "Epoch 8/11\n",
            "1688/1688 [==============================] - 15s 9ms/step - loss: 0.1670 - acc: 0.9384 - val_loss: 0.2570 - val_acc: 0.9132\n",
            "Epoch 9/11\n",
            "1688/1688 [==============================] - 15s 9ms/step - loss: 0.1532 - acc: 0.9427 - val_loss: 0.2907 - val_acc: 0.9115\n",
            "Epoch 10/11\n",
            "1688/1688 [==============================] - 16s 9ms/step - loss: 0.1411 - acc: 0.9472 - val_loss: 0.2572 - val_acc: 0.9152\n",
            "Epoch 11/11\n",
            "1688/1688 [==============================] - 15s 9ms/step - loss: 0.1314 - acc: 0.9506 - val_loss: 0.2453 - val_acc: 0.9207\n"
          ]
        },
        {
          "output_type": "execute_result",
          "data": {
            "text/plain": [
              "<keras.callbacks.History at 0x7ff726dc0f50>"
            ]
          },
          "metadata": {},
          "execution_count": 20
        }
      ]
    },
    {
      "cell_type": "code",
      "metadata": {
        "id": "Cf_vRXWf4mL2",
        "colab": {
          "base_uri": "https://localhost:8080/"
        },
        "outputId": "57add84a-72a0-4881-f59f-d0027ee66ecf"
      },
      "source": [
        "# evaluate your results\n",
        "model.evaluate(x_test, y_test)"
      ],
      "execution_count": 21,
      "outputs": [
        {
          "output_type": "stream",
          "name": "stdout",
          "text": [
            "313/313 [==============================] - 2s 5ms/step - loss: 0.2562 - acc: 0.9172\n"
          ]
        },
        {
          "output_type": "execute_result",
          "data": {
            "text/plain": [
              "[0.2561682164669037, 0.9172000288963318]"
            ]
          },
          "metadata": {},
          "execution_count": 21
        }
      ]
    },
    {
      "cell_type": "code",
      "metadata": {
        "id": "8vVQ48aK4nWF"
      },
      "source": [
        ""
      ],
      "execution_count": null,
      "outputs": []
    }
  ]
}